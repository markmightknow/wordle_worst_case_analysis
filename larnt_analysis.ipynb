{
 "cells": [
  {
   "cell_type": "code",
   "execution_count": 1,
   "metadata": {},
   "outputs": [],
   "source": [
    "from collections import Counter, defaultdict\n",
    "import numpy\n",
    "import pandas\n",
    "pandas.set_option('display.max_columns',200)\n",
    "pandas.set_option('display.max_rows',200)"
   ]
  },
  {
   "cell_type": "code",
   "execution_count": 2,
   "metadata": {},
   "outputs": [
    {
     "name": "stdout",
     "output_type": "stream",
     "text": [
      "12972\n"
     ]
    }
   ],
   "source": [
    "from wordle_tools import (\n",
    "    SORTED_FIVE_LETTER_WORDS,\n",
    "    ILLS_SPINE_WORDS,\n",
    "    ILLS_STRONG_SPINES,\n",
    "    map_df_back_to_strategy_dict,\n",
    "    apply_wordle_strategy,\n",
    "    min_max_groups_among_children,\n",
    "    tabulate_strategy_from_search_results,\n",
    "    wordl_score,\n",
    "    top_one_off_patterns,\n",
    "    filter_to_strong_spines,\n",
    "    read_spine_file,\n",
    "    calculate_max_group_size_given_guess\n",
    ")"
   ]
  },
  {
   "cell_type": "code",
   "execution_count": 3,
   "metadata": {},
   "outputs": [],
   "source": [
    "def play_from_strategy_dictionary_customised(stack_item, strategy_dict, root_word):\n",
    "       \n",
    "    if stack_item[1] == 0:\n",
    "        return root_word\n",
    "\n",
    "    \n",
    "    strategy_dict_key = (\n",
    "        stack_item[2],\n",
    "        tuple(stack_item[3][1:])\n",
    "    )\n",
    "    \n",
    "    # First run this function to build an initial tree\n",
    "    # Then progressively add the custom rules after analysing the exceptions.\n",
    "    \n",
    "    if strategy_dict_key == (('LARNT',), ((1,0,0,0,0),)):\n",
    "        return min_max_groups_among_children(\n",
    "            stack_item,\n",
    "            [\n",
    "                'SCOWP', 'VUGHY', 'ZIMBS', 'VUGHS',\n",
    "                'WOMBY', 'FJELD', 'VUGHY', 'WOMBS',\n",
    "                'FUGLY', 'SPICK', 'VOZHD', 'WEMBS'\n",
    "            ],\n",
    "            'LARNT'\n",
    "        ) # WEMBS is selected\n",
    "    \n",
    "    if strategy_dict_key == (('LARNT', 'WEMBS'),((1,0,0,0,0),(0,0,0,0,2))):\n",
    "        return min_max_groups_among_children(\n",
    "            stack_item,\n",
    "            ['FUGLY', 'SPICK', 'VOZHD'],\n",
    "            'LARNT'\n",
    "        )\n",
    "    \n",
    "    if strategy_dict_key == (('LARNT', 'WEMBS', 'SPICK'),((1,0,0,0,0),(0,0,0,0,2), (1,0,1,0,0))):\n",
    "        return min_max_groups_among_children(\n",
    "            stack_item,\n",
    "            ['FUGLY', 'VOZHD'],\n",
    "            'LARNT'\n",
    "        )\n",
    "    if strategy_dict_key == (('LARNT', 'WEMBS'),((1,0,0,0,0),(0,2,0,0,2))):\n",
    "        return \"YIELD\"    \n",
    "    \n",
    "    if strategy_dict_key == (('LARNT', 'WEMBS', 'YIELD'),((1,0,0,0,0),(0,2,0,0,2), (0,0,1,2,0))):\n",
    "        return \"SCHAV\"    \n",
    "    \n",
    "    if strategy_dict_key == (('LARNT',), ((0,0,0,0,0),)):\n",
    "        return \"KEMBS\"\n",
    "    \n",
    "    if strategy_dict_key == (('LARNT','KEMBS'), ((0,0,0,0,0),(0,2,0,0,2))):\n",
    "        return \"GIVED\"\n",
    "    \n",
    "    if strategy_dict_key == (('LARNT','KEMPS'), ((0,2,0,0,0),(0,1,0,0,2))):\n",
    "        return \"GYVED\"\n",
    "\n",
    "    if strategy_dict_key == (('LARNT',), ((0,0,0,1,1),)):\n",
    "        return \"TINES\"\n",
    "    \n",
    "    if strategy_dict_key == (('LARNT','TINES'), ((0,0,0,1,1),(1,0,2,1,2))):\n",
    "        return \"CHAWK\"\n",
    "    \n",
    "    if strategy_dict_key == (('LARNT','TINES', 'CHAWK'), ((0,0,0,1,1),(1,0,2,1,2),(0,0,0,0,0))):\n",
    "        #'LARNT', 'TINES', 'CHAWK', 'BADGE', 'SPIFF']\n",
    "        return \"BADGE\" #then SPIFF but min-max will find it\n",
    "\n",
    "    if strategy_dict_key == (('LARNT',), ((0,0,0,1,0),)):\n",
    "        return \"SINED\"\n",
    "    \n",
    "    if strategy_dict_key == (('LARNT','SINED'), ((0,0,0,1,0),(1,2,2,2,0))):\n",
    "        return \"BACKS\"\n",
    "    \n",
    "    if strategy_dict_key == (('LARNT','SINED', 'BACKS'), ((0,0,0,1,0),(1,2,2,2,0),(0,0,0,0,2))):\n",
    "        return \"FLIMP\"\n",
    "        \n",
    "    if strategy_dict_key == (('LARNT',), ((0,0,1,0,0),)):\n",
    "        return \"IDEES\"\n",
    "    \n",
    "    if strategy_dict_key == (('LARNT','IDEES'), ((0,0,1,0,0),(1,0,0,2,0))):\n",
    "        return \"VIBEX\" # if (0,2,0,2,0) KEMPY\n",
    "        \n",
    "    if strategy_dict_key == (('LARNT',), ((0,0,0,0,1),)):\n",
    "        return \"SHOES\"\n",
    "    \n",
    "    if strategy_dict_key == (('LARNT','SHOES'), ((0,0,0,0,1),(1,0,0,1,2))):\n",
    "        return \"TOWZY\"\n",
    "    \n",
    "    if strategy_dict_key == (('LARNT','SHOES', 'TOWZY'), ((0,0,0,0,1),(1,0,0,1,2),(1,0,0,0,0))):\n",
    "        return \"KOPJE\"  #then BEFOG but min-max will find it\n",
    "\n",
    "    else:\n",
    "        recorded_move = strategy_dict.get(\n",
    "            strategy_dict_key,\n",
    "            None\n",
    "        )\n",
    "    \n",
    "        if recorded_move is None:\n",
    "\n",
    "            print('missing move for:')\n",
    "            print(stack_item)\n",
    "\n",
    "            return min_max_groups_among_children(stack_item, SORTED_FIVE_LETTER_WORDS, 'LARNT')\n",
    "\n",
    "        else:\n",
    "            return recorded_move"
   ]
  },
  {
   "cell_type": "code",
   "execution_count": 33,
   "metadata": {},
   "outputs": [
    {
     "name": "stdout",
     "output_type": "stream",
     "text": [
      "4.309666975023127\n",
      "4.0\n"
     ]
    },
    {
     "data": {
      "text/plain": [
       "Counter({2: 30, 3: 1498, 1: 1, 4: 6314, 5: 4680, 6: 449})"
      ]
     },
     "execution_count": 33,
     "metadata": {},
     "output_type": "execute_result"
    }
   ],
   "source": [
    "df = pandas.read_csv(\n",
    "    r'custom_tree_wordle_set_larnt_lte_6.csv',\n",
    ").fillna(\"\")\n",
    "\n",
    "print(df['depth'].mean())\n",
    "print(df['depth'].median())\n",
    "\n",
    "Counter(df['depth'])"
   ]
  },
  {
   "cell_type": "code",
   "execution_count": 5,
   "metadata": {
    "scrolled": true
   },
   "outputs": [],
   "source": [
    "strategy_dict = map_df_back_to_strategy_dict(df)\n",
    "\n",
    "results, tree = apply_wordle_strategy(\n",
    "    play_from_strategy_dictionary_customised, strategy_dict, 'LARNT'\n",
    ")"
   ]
  },
  {
   "cell_type": "code",
   "execution_count": 6,
   "metadata": {},
   "outputs": [
    {
     "data": {
      "text/plain": [
       "Counter({2: 30, 3: 1498, 1: 1, 4: 6314, 5: 4680, 6: 449})"
      ]
     },
     "execution_count": 6,
     "metadata": {},
     "output_type": "execute_result"
    }
   ],
   "source": [
    "Counter(r[1] for r in results)"
   ]
  },
  {
   "cell_type": "code",
   "execution_count": 7,
   "metadata": {},
   "outputs": [
    {
     "data": {
      "text/html": [
       "<div>\n",
       "<style scoped>\n",
       "    .dataframe tbody tr th:only-of-type {\n",
       "        vertical-align: middle;\n",
       "    }\n",
       "\n",
       "    .dataframe tbody tr th {\n",
       "        vertical-align: top;\n",
       "    }\n",
       "\n",
       "    .dataframe thead th {\n",
       "        text-align: right;\n",
       "    }\n",
       "</style>\n",
       "<table border=\"1\" class=\"dataframe\">\n",
       "  <thead>\n",
       "    <tr style=\"text-align: right;\">\n",
       "      <th></th>\n",
       "      <th>word</th>\n",
       "      <th>depth</th>\n",
       "      <th>g1</th>\n",
       "      <th>s11</th>\n",
       "      <th>s12</th>\n",
       "      <th>s13</th>\n",
       "      <th>s14</th>\n",
       "      <th>s15</th>\n",
       "      <th>g2</th>\n",
       "      <th>s21</th>\n",
       "      <th>s22</th>\n",
       "      <th>s23</th>\n",
       "      <th>s24</th>\n",
       "      <th>s25</th>\n",
       "      <th>g3</th>\n",
       "      <th>s31</th>\n",
       "      <th>s32</th>\n",
       "      <th>s33</th>\n",
       "      <th>s34</th>\n",
       "      <th>s35</th>\n",
       "      <th>g4</th>\n",
       "      <th>s41</th>\n",
       "      <th>s42</th>\n",
       "      <th>s43</th>\n",
       "      <th>s44</th>\n",
       "      <th>s45</th>\n",
       "      <th>g5</th>\n",
       "      <th>s51</th>\n",
       "      <th>s52</th>\n",
       "      <th>s53</th>\n",
       "      <th>s54</th>\n",
       "      <th>s55</th>\n",
       "      <th>g6</th>\n",
       "      <th>s61</th>\n",
       "      <th>s62</th>\n",
       "      <th>s63</th>\n",
       "      <th>s64</th>\n",
       "      <th>s65</th>\n",
       "    </tr>\n",
       "  </thead>\n",
       "  <tbody>\n",
       "  </tbody>\n",
       "</table>\n",
       "</div>"
      ],
      "text/plain": [
       "Empty DataFrame\n",
       "Columns: [word, depth, g1, s11, s12, s13, s14, s15, g2, s21, s22, s23, s24, s25, g3, s31, s32, s33, s34, s35, g4, s41, s42, s43, s44, s45, g5, s51, s52, s53, s54, s55, g6, s61, s62, s63, s64, s65]\n",
       "Index: []"
      ]
     },
     "execution_count": 7,
     "metadata": {},
     "output_type": "execute_result"
    }
   ],
   "source": [
    "new_df = tabulate_strategy_from_search_results(results)\n",
    "new_df[new_df['depth'] > 6]"
   ]
  },
  {
   "cell_type": "code",
   "execution_count": 8,
   "metadata": {},
   "outputs": [
    {
     "data": {
      "text/html": [
       "<div>\n",
       "<style scoped>\n",
       "    .dataframe tbody tr th:only-of-type {\n",
       "        vertical-align: middle;\n",
       "    }\n",
       "\n",
       "    .dataframe tbody tr th {\n",
       "        vertical-align: top;\n",
       "    }\n",
       "\n",
       "    .dataframe thead th {\n",
       "        text-align: right;\n",
       "    }\n",
       "</style>\n",
       "<table border=\"1\" class=\"dataframe\">\n",
       "  <thead>\n",
       "    <tr style=\"text-align: right;\">\n",
       "      <th></th>\n",
       "      <th>depth</th>\n",
       "      <th>g1</th>\n",
       "      <th>s11</th>\n",
       "      <th>s12</th>\n",
       "      <th>s13</th>\n",
       "      <th>s14</th>\n",
       "      <th>s15</th>\n",
       "      <th>word</th>\n",
       "    </tr>\n",
       "  </thead>\n",
       "  <tbody>\n",
       "  </tbody>\n",
       "</table>\n",
       "</div>"
      ],
      "text/plain": [
       "Empty DataFrame\n",
       "Columns: [depth, g1, s11, s12, s13, s14, s15, word]\n",
       "Index: []"
      ]
     },
     "execution_count": 8,
     "metadata": {},
     "output_type": "execute_result"
    }
   ],
   "source": [
    "new_df[new_df['depth'] > 6].groupby(list(new_df.columns)[1:8])['word'].count().reset_index()"
   ]
  },
  {
   "cell_type": "code",
   "execution_count": 9,
   "metadata": {},
   "outputs": [
    {
     "data": {
      "text/html": [
       "<div>\n",
       "<style scoped>\n",
       "    .dataframe tbody tr th:only-of-type {\n",
       "        vertical-align: middle;\n",
       "    }\n",
       "\n",
       "    .dataframe tbody tr th {\n",
       "        vertical-align: top;\n",
       "    }\n",
       "\n",
       "    .dataframe thead th {\n",
       "        text-align: right;\n",
       "    }\n",
       "</style>\n",
       "<table border=\"1\" class=\"dataframe\">\n",
       "  <thead>\n",
       "    <tr style=\"text-align: right;\">\n",
       "      <th></th>\n",
       "      <th>depth</th>\n",
       "      <th>g1</th>\n",
       "      <th>s11</th>\n",
       "      <th>s12</th>\n",
       "      <th>s13</th>\n",
       "      <th>s14</th>\n",
       "      <th>s15</th>\n",
       "      <th>g2</th>\n",
       "      <th>s21</th>\n",
       "      <th>s22</th>\n",
       "      <th>s23</th>\n",
       "      <th>s24</th>\n",
       "      <th>s25</th>\n",
       "      <th>word</th>\n",
       "    </tr>\n",
       "  </thead>\n",
       "  <tbody>\n",
       "  </tbody>\n",
       "</table>\n",
       "</div>"
      ],
      "text/plain": [
       "Empty DataFrame\n",
       "Columns: [depth, g1, s11, s12, s13, s14, s15, g2, s21, s22, s23, s24, s25, word]\n",
       "Index: []"
      ]
     },
     "execution_count": 9,
     "metadata": {},
     "output_type": "execute_result"
    }
   ],
   "source": [
    "new_df[new_df['depth'] > 6].groupby(list(new_df.columns)[1:14])['word'].count().reset_index()"
   ]
  },
  {
   "cell_type": "code",
   "execution_count": 10,
   "metadata": {},
   "outputs": [
    {
     "data": {
      "text/html": [
       "<div>\n",
       "<style scoped>\n",
       "    .dataframe tbody tr th:only-of-type {\n",
       "        vertical-align: middle;\n",
       "    }\n",
       "\n",
       "    .dataframe tbody tr th {\n",
       "        vertical-align: top;\n",
       "    }\n",
       "\n",
       "    .dataframe thead th {\n",
       "        text-align: right;\n",
       "    }\n",
       "</style>\n",
       "<table border=\"1\" class=\"dataframe\">\n",
       "  <thead>\n",
       "    <tr style=\"text-align: right;\">\n",
       "      <th></th>\n",
       "      <th>depth</th>\n",
       "      <th>g1</th>\n",
       "      <th>s11</th>\n",
       "      <th>s12</th>\n",
       "      <th>s13</th>\n",
       "      <th>s14</th>\n",
       "      <th>s15</th>\n",
       "      <th>g2</th>\n",
       "      <th>s21</th>\n",
       "      <th>s22</th>\n",
       "      <th>s23</th>\n",
       "      <th>s24</th>\n",
       "      <th>s25</th>\n",
       "      <th>g3</th>\n",
       "      <th>s31</th>\n",
       "      <th>s32</th>\n",
       "      <th>s33</th>\n",
       "      <th>s34</th>\n",
       "      <th>s35</th>\n",
       "      <th>word</th>\n",
       "    </tr>\n",
       "  </thead>\n",
       "  <tbody>\n",
       "  </tbody>\n",
       "</table>\n",
       "</div>"
      ],
      "text/plain": [
       "Empty DataFrame\n",
       "Columns: [depth, g1, s11, s12, s13, s14, s15, g2, s21, s22, s23, s24, s25, g3, s31, s32, s33, s34, s35, word]\n",
       "Index: []"
      ]
     },
     "execution_count": 10,
     "metadata": {},
     "output_type": "execute_result"
    }
   ],
   "source": [
    "new_df[new_df['depth'] > 6].groupby(list(new_df.columns)[1:20])['word'].count().reset_index()"
   ]
  },
  {
   "cell_type": "code",
   "execution_count": null,
   "metadata": {},
   "outputs": [],
   "source": [
    "#new_df.to_csv('custom_tree_wordle_set_larnt_wembs_spick_vozhd_fugly_kembs_kemps_gyved_tines_chawk_badge_gived_yield_schav_sined_backs_flimp_idees_vibex_shoes_towzy_kopje.csv', index=False)"
   ]
  },
  {
   "cell_type": "code",
   "execution_count": 11,
   "metadata": {},
   "outputs": [
    {
     "data": {
      "text/plain": [
       "(7, {'BESTS', 'FESTS', 'GESTS', 'JESTS', 'KESTS', 'PESTS', 'VESTS'})"
      ]
     },
     "execution_count": 11,
     "metadata": {},
     "output_type": "execute_result"
    }
   ],
   "source": [
    "words_1 = {\n",
    "    w\n",
    "    for w in SORTED_FIVE_LETTER_WORDS\n",
    "    if wordl_score('LARNT', w) == (0,0,0,0,1)\n",
    "    if wordl_score('SHOES', w) == (1,0,0,1,2)\n",
    "    if wordl_score('TOWZY', w) == (1, 0, 0, 0, 0)\n",
    "}\n",
    "\n",
    "len(words_1), words_1"
   ]
  },
  {
   "cell_type": "code",
   "execution_count": 12,
   "metadata": {},
   "outputs": [
    {
     "data": {
      "text/plain": [
       "Counter({(0, 0, 0, 0, 1): 4,\n",
       "         (2, 0, 0, 0, 1): 1,\n",
       "         (0, 0, 0, 1, 1): 1,\n",
       "         (0, 0, 1, 0, 1): 1})"
      ]
     },
     "execution_count": 12,
     "metadata": {},
     "output_type": "execute_result"
    }
   ],
   "source": [
    "Counter([wordl_score('KOPJE', w) for w in words_1])"
   ]
  },
  {
   "cell_type": "code",
   "execution_count": 13,
   "metadata": {},
   "outputs": [
    {
     "data": {
      "text/plain": [
       "(4, {'BESTS', 'FESTS', 'GESTS', 'VESTS'})"
      ]
     },
     "execution_count": 13,
     "metadata": {},
     "output_type": "execute_result"
    }
   ],
   "source": [
    "words_1 = {\n",
    "    w\n",
    "    for w in SORTED_FIVE_LETTER_WORDS\n",
    "    if wordl_score('LARNT', w) == (0,0,0,0,1)\n",
    "    if wordl_score('SHOES', w) == (1,0,0,1,2)\n",
    "    if wordl_score('TOWZY', w) == (1, 0, 0, 0, 0)\n",
    "    if wordl_score('KOPJE', w) == (0, 0, 0, 0, 1)    \n",
    "}\n",
    "\n",
    "len(words_1), words_1"
   ]
  },
  {
   "cell_type": "code",
   "execution_count": 14,
   "metadata": {},
   "outputs": [
    {
     "data": {
      "text/plain": [
       "[(1, 'BEFOG'),\n",
       " (2, 'ABAFT'),\n",
       " (2, 'ABOVE'),\n",
       " (2, 'AGAVE'),\n",
       " (2, 'AVGAS'),\n",
       " (2, 'BADGE'),\n",
       " (2, 'BAFFS'),\n",
       " (2, 'BAFFY'),\n",
       " (2, 'BAFTS'),\n",
       " (2, 'BAGEL')]"
      ]
     },
     "execution_count": 14,
     "metadata": {},
     "output_type": "execute_result"
    }
   ],
   "source": [
    "sorted([\n",
    "    (\n",
    "        calculate_max_group_size_given_guess(guess, words_1),\n",
    "        guess\n",
    "    )\n",
    "    for guess in SORTED_FIVE_LETTER_WORDS\n",
    "])[:10]"
   ]
  },
  {
   "cell_type": "markdown",
   "metadata": {},
   "source": [
    "## Check the calculated tree is valid:"
   ]
  },
  {
   "cell_type": "markdown",
   "metadata": {},
   "source": [
    "### Firstly check every input  has only one next guess:"
   ]
  },
  {
   "cell_type": "code",
   "execution_count": 15,
   "metadata": {},
   "outputs": [
    {
     "name": "stdout",
     "output_type": "stream",
     "text": [
      "True\n",
      "True\n",
      "True\n",
      "True\n",
      "True\n"
     ]
    }
   ],
   "source": [
    "input_cols = []\n",
    "rule_cols = []\n",
    "\n",
    "for n in range(1,6):\n",
    "    input_cols += [f'g{n}',f's{n}1',f's{n}2',f's{n}3',f's{n}4',f's{n}5']\n",
    "    rule_cols += input_cols + [f'g{n+1}']\n",
    "    print(len(df[input_cols].drop_duplicates()) == len(df[rule_cols].drop_duplicates()))\n",
    "\n"
   ]
  },
  {
   "cell_type": "markdown",
   "metadata": {},
   "source": [
    "### Check the word in the 'word' column is always in one of the guess 'g' columns:"
   ]
  },
  {
   "cell_type": "code",
   "execution_count": 16,
   "metadata": {},
   "outputs": [
    {
     "data": {
      "text/plain": [
       "Counter({True: 12972})"
      ]
     },
     "execution_count": 16,
     "metadata": {},
     "output_type": "execute_result"
    }
   ],
   "source": [
    "Counter((\n",
    "    df['g1'] == df['word']\n",
    ") | (\n",
    "    df['g2'] == df['word']\n",
    ") | (\n",
    "    df['g3'] == df['word']\n",
    ") | (\n",
    "    df['g4'] == df['word']\n",
    ") | (\n",
    "    df['g5'] == df['word']\n",
    ") | (\n",
    "    df['g6'] == df['word']\n",
    "))"
   ]
  },
  {
   "cell_type": "markdown",
   "metadata": {},
   "source": [
    "### ... which is the same as the word count:"
   ]
  },
  {
   "cell_type": "code",
   "execution_count": 17,
   "metadata": {},
   "outputs": [
    {
     "data": {
      "text/plain": [
       "12972"
      ]
     },
     "execution_count": 17,
     "metadata": {},
     "output_type": "execute_result"
    }
   ],
   "source": [
    "len(set(df['word']))"
   ]
  },
  {
   "cell_type": "markdown",
   "metadata": {},
   "source": [
    "### which is equal to the Wordle word count:"
   ]
  },
  {
   "cell_type": "code",
   "execution_count": 18,
   "metadata": {},
   "outputs": [
    {
     "data": {
      "text/plain": [
       "12972"
      ]
     },
     "execution_count": 18,
     "metadata": {},
     "output_type": "execute_result"
    }
   ],
   "source": [
    "len(SORTED_FIVE_LETTER_WORDS)"
   ]
  },
  {
   "cell_type": "markdown",
   "metadata": {},
   "source": [
    "### Demonstrate that two critical six-paths isolate key off-by-one word sets: "
   ]
  },
  {
   "cell_type": "code",
   "execution_count": 19,
   "metadata": {},
   "outputs": [
    {
     "data": {
      "text/plain": [
       "[['LARNT', 'WEMBS', 'SPICK', 'VOZHD', 'FUGLY']]"
      ]
     },
     "execution_count": 19,
     "metadata": {},
     "output_type": "execute_result"
    }
   ],
   "source": [
    "filter_to_strong_spines(\n",
    "    [['LARNT', 'WEMBS', 'SPICK', 'VOZHD', 'FUGLY']],\n",
    "    {w for w in SORTED_FIVE_LETTER_WORDS if w.endswith('ILLS')}\n",
    ")"
   ]
  },
  {
   "cell_type": "code",
   "execution_count": 20,
   "metadata": {},
   "outputs": [
    {
     "data": {
      "text/plain": [
       "{'FUGLY', 'LARNT', 'SPICK', 'VOZHD', 'WEMBS'}"
      ]
     },
     "execution_count": 20,
     "metadata": {},
     "output_type": "execute_result"
    }
   ],
   "source": [
    "set(['LARNT', 'WEMBS', 'SPICK', 'VOZHD', 'FUGLY']) & set(SORTED_FIVE_LETTER_WORDS)"
   ]
  },
  {
   "cell_type": "code",
   "execution_count": 21,
   "metadata": {},
   "outputs": [
    {
     "data": {
      "text/plain": [
       "[['LARNT', 'WEMBS', 'SPICK', 'VOZHD', 'FUGLY']]"
      ]
     },
     "execution_count": 21,
     "metadata": {},
     "output_type": "execute_result"
    }
   ],
   "source": [
    "filter_to_strong_spines(\n",
    "    [['LARNT', 'WEMBS', 'SPICK', 'VOZHD', 'FUGLY']],\n",
    "    {w for w in SORTED_FIVE_LETTER_WORDS if w.endswith('ILLS')}\n",
    ")"
   ]
  },
  {
   "cell_type": "code",
   "execution_count": 22,
   "metadata": {},
   "outputs": [
    {
     "data": {
      "text/plain": [
       "{'BEFOG', 'KOPJE', 'LARNT', 'SHOES', 'TOWZY'}"
      ]
     },
     "execution_count": 22,
     "metadata": {},
     "output_type": "execute_result"
    }
   ],
   "source": [
    "set(['LARNT', 'SHOES', 'TOWZY', 'KOPJE', 'BEFOG']) & set(SORTED_FIVE_LETTER_WORDS)"
   ]
  },
  {
   "cell_type": "code",
   "execution_count": 23,
   "metadata": {},
   "outputs": [],
   "source": [
    "def output_tree_dataframe_to_plain_text(df, fp):\n",
    "    \n",
    "    lines = []\n",
    "    \n",
    "    for x in df.values:\n",
    "        line = '' \n",
    "        for i, item in enumerate(x):\n",
    "            if i > 1:\n",
    "                if isinstance(item, str):\n",
    "                    line += ' '\n",
    "                    line += item.strip()\n",
    "                    line += ' '\n",
    "                elif i == 1:\n",
    "                    line += str(int(item))\n",
    "                    line += ' '\n",
    "                elif isinstance(item, float):\n",
    "                    line += str(int(item)) \n",
    "                elif isinstance(item, int):\n",
    "                    line += str(int(item)) \n",
    "\n",
    "        line = line.replace('    ', ' ').replace('   ', ' ').replace('  ', ' ')\n",
    "        lines.append(line)\n",
    "        \n",
    "    open(fp, 'w').write('\\n'.join(sorted(lines)))"
   ]
  },
  {
   "cell_type": "code",
   "execution_count": 31,
   "metadata": {
    "scrolled": false
   },
   "outputs": [],
   "source": [
    "output_tree_dataframe_to_plain_text(\n",
    "    df,\n",
    "    'wordle_tree_larnt_lte_6_20220201.txt'\n",
    ")"
   ]
  },
  {
   "cell_type": "markdown",
   "metadata": {},
   "source": [
    "## Also output the LARKS near-miss:"
   ]
  },
  {
   "cell_type": "code",
   "execution_count": 30,
   "metadata": {},
   "outputs": [],
   "source": [
    "larks_df = pandas.read_csv(r'custom_tree_wordle_set_larks_one_7_path.csv')\n",
    "\n",
    "output_tree_dataframe_to_plain_text(\n",
    "    larks_df.fillna(\"\"),\n",
    "    'wordle_tree_larks_one_7_path_20220129.txt'\n",
    ")"
   ]
  },
  {
   "cell_type": "code",
   "execution_count": null,
   "metadata": {},
   "outputs": [],
   "source": []
  }
 ],
 "metadata": {
  "kernelspec": {
   "display_name": "Python 3",
   "language": "python",
   "name": "python3"
  },
  "language_info": {
   "codemirror_mode": {
    "name": "ipython",
    "version": 3
   },
   "file_extension": ".py",
   "mimetype": "text/x-python",
   "name": "python",
   "nbconvert_exporter": "python",
   "pygments_lexer": "ipython3",
   "version": "3.7.0"
  }
 },
 "nbformat": 4,
 "nbformat_minor": 2
}
